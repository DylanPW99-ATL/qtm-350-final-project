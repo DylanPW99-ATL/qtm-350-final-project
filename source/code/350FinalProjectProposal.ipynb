{
 "cells": [
  {
   "cell_type": "code",
   "execution_count": 3,
   "metadata": {},
   "outputs": [
    {
     "name": "stdout",
     "output_type": "stream",
     "text": [
      "make_bucket: image-api-example-projectproposal\n"
     ]
    }
   ],
   "source": [
    "# make a bucket\n",
    "!aws s3 mb s3://image-api-example-projectproposal"
   ]
  },
  {
   "cell_type": "code",
   "execution_count": 4,
   "metadata": {},
   "outputs": [],
   "source": [
    "import boto3"
   ]
  },
  {
   "cell_type": "code",
   "execution_count": 5,
   "metadata": {},
   "outputs": [
    {
     "data": {
      "text/plain": [
       "s3.Bucket.objectsCollection(s3.Bucket(name='image-api-example-projectproposal'), s3.ObjectSummary)"
      ]
     },
     "execution_count": 5,
     "metadata": {},
     "output_type": "execute_result"
    }
   ],
   "source": [
    "s3_resource = boto3.resource('s3')\n",
    "my_bucket = s3_resource.Bucket('image-api-example-projectproposal')\n",
    "summaries = my_bucket.objects.all()\n",
    "summaries"
   ]
  },
  {
   "cell_type": "code",
   "execution_count": 6,
   "metadata": {},
   "outputs": [
    {
     "data": {
      "text/plain": [
       "[u'finalprojectimage/',\n",
       " u'finalprojectimage/1age10.png',\n",
       " u'finalprojectimage/1age16.png',\n",
       " u'finalprojectimage/1age3.png',\n",
       " u'finalprojectimage/1age4.png',\n",
       " u'finalprojectimage/1age6.png',\n",
       " u'finalprojectimage/1age8.png',\n",
       " u'finalprojectimage/1age9.png',\n",
       " u'finalprojectimage/2age15.png',\n",
       " u'finalprojectimage/2age16.png',\n",
       " u'finalprojectimage/2age18.png',\n",
       " u'finalprojectimage/2age20.png',\n",
       " u'finalprojectimage/2age21.png',\n",
       " u'finalprojectimage/2age23.png',\n",
       " u'finalprojectimage/2age26.png',\n",
       " u'finalprojectimage/2age29.png',\n",
       " u'finalprojectimage/2age31.png',\n",
       " u'finalprojectimage/2age36.png',\n",
       " u'finalprojectimage/2age38.png',\n",
       " u'finalprojectimage/2age4.png',\n",
       " u'finalprojectimage/2age5.png',\n",
       " u'finalprojectimage/2age7.png']"
      ]
     },
     "execution_count": 6,
     "metadata": {},
     "output_type": "execute_result"
    }
   ],
   "source": [
    "images = []\n",
    "for image in summaries:\n",
    "    images.append(image.key)\n",
    "images"
   ]
  },
  {
   "cell_type": "code",
   "execution_count": 7,
   "metadata": {},
   "outputs": [],
   "source": [
    "client=boto3.client('rekognition')"
   ]
  },
  {
   "cell_type": "markdown",
   "metadata": {},
   "source": [
    "# Test Set1 "
   ]
  },
  {
   "cell_type": "code",
   "execution_count": 10,
   "metadata": {},
   "outputs": [],
   "source": [
    "confidence_dict={}\n",
    "for image in images[:-1]:\n",
    "    try:\n",
    "        comparison = client.compare_faces(SourceImage={'S3Object':{'Bucket':\"image-api-example-projectproposal\",'Name':\"finalprojectimage/1age3.png\"}}, TargetImage={'S3Object':{'Bucket':\"image-api-example-projectproposal\",'Name':image}})\n",
    "        face_match = comparison['FaceMatches']\n",
    "        image_score = face_match[0]['Similarity']\n",
    "        confidence_dict[image] = image_score\n",
    "    except Exception:\n",
    "        pass"
   ]
  },
  {
   "cell_type": "code",
   "execution_count": 11,
   "metadata": {},
   "outputs": [
    {
     "data": {
      "text/plain": [
       "{u'finalprojectimage/1age3.png': 100.0,\n",
       " u'finalprojectimage/1age4.png': 99.53585815429688,\n",
       " u'finalprojectimage/1age6.png': 99.93553924560547,\n",
       " u'finalprojectimage/1age8.png': 93.99284362792969,\n",
       " u'finalprojectimage/1age9.png': 83.26995086669922}"
      ]
     },
     "execution_count": 11,
     "metadata": {},
     "output_type": "execute_result"
    }
   ],
   "source": [
    "confidence_dict"
   ]
  },
  {
   "cell_type": "markdown",
   "metadata": {},
   "source": [
    "# Test Set2"
   ]
  },
  {
   "cell_type": "code",
   "execution_count": 12,
   "metadata": {},
   "outputs": [],
   "source": [
    "confidence_dict={}\n",
    "for image in images[:-1]:\n",
    "    try:\n",
    "        comparison = client.compare_faces(SourceImage={'S3Object':{'Bucket':\"image-api-example-projectproposal\",'Name':\"finalprojectimage/2age4.png\"}}, TargetImage={'S3Object':{'Bucket':\"image-api-example-projectproposal\",'Name':image}})\n",
    "        face_match = comparison['FaceMatches']\n",
    "        image_score = face_match[0]['Similarity']\n",
    "        confidence_dict[image] = image_score\n",
    "    except Exception:\n",
    "        pass"
   ]
  },
  {
   "cell_type": "code",
   "execution_count": 13,
   "metadata": {},
   "outputs": [
    {
     "data": {
      "text/plain": [
       "{u'finalprojectimage/2age18.png': 90.5944595336914,\n",
       " u'finalprojectimage/2age4.png': 100.0,\n",
       " u'finalprojectimage/2age5.png': 97.29381561279297}"
      ]
     },
     "execution_count": 13,
     "metadata": {},
     "output_type": "execute_result"
    }
   ],
   "source": [
    "confidence_dict"
   ]
  },
  {
   "cell_type": "code",
   "execution_count": 14,
   "metadata": {},
   "outputs": [],
   "source": [
    "confidence_dict={}\n",
    "for image in images[:-1]:\n",
    "    try:\n",
    "        comparison = client.compare_faces(SourceImage={'S3Object':{'Bucket':\"image-api-example-projectproposal\",'Name':\"finalprojectimage/2age7.png\"}}, TargetImage={'S3Object':{'Bucket':\"image-api-example-projectproposal\",'Name':image}})\n",
    "        face_match = comparison['FaceMatches']\n",
    "        image_score = face_match[0]['Similarity']\n",
    "        confidence_dict[image] = image_score\n",
    "    except Exception:\n",
    "        pass"
   ]
  },
  {
   "cell_type": "code",
   "execution_count": 15,
   "metadata": {},
   "outputs": [
    {
     "data": {
      "text/plain": [
       "{u'finalprojectimage/2age16.png': 97.2121810913086,\n",
       " u'finalprojectimage/2age18.png': 99.10292053222656,\n",
       " u'finalprojectimage/2age20.png': 83.51528930664062,\n",
       " u'finalprojectimage/2age21.png': 87.92134857177734,\n",
       " u'finalprojectimage/2age26.png': 94.41075134277344,\n",
       " u'finalprojectimage/2age29.png': 87.0982437133789,\n",
       " u'finalprojectimage/2age31.png': 96.06549835205078,\n",
       " u'finalprojectimage/2age36.png': 81.68824005126953,\n",
       " u'finalprojectimage/2age38.png': 80.461181640625,\n",
       " u'finalprojectimage/2age4.png': 99.17850494384766,\n",
       " u'finalprojectimage/2age5.png': 98.29149627685547}"
      ]
     },
     "execution_count": 15,
     "metadata": {},
     "output_type": "execute_result"
    }
   ],
   "source": [
    "confidence_dict"
   ]
  },
  {
   "cell_type": "code",
   "execution_count": null,
   "metadata": {},
   "outputs": [],
   "source": []
  }
 ],
 "metadata": {
  "kernelspec": {
   "display_name": "Python 3",
   "language": "python",
   "name": "python3"
  },
  "language_info": {
   "codemirror_mode": {
    "name": "ipython",
    "version": 3
   },
   "file_extension": ".py",
   "mimetype": "text/x-python",
   "name": "python",
   "nbconvert_exporter": "python",
   "pygments_lexer": "ipython3",
   "version": "3.7.1"
  }
 },
 "nbformat": 4,
 "nbformat_minor": 5
}

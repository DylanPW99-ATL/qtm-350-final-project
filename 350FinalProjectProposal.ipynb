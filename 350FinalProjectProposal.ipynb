{
 "cells": [
  {
   "cell_type": "code",
   "execution_count": 74,
   "id": "domestic-graduation",
   "metadata": {},
   "outputs": [
    {
     "name": "stdout",
     "output_type": "stream",
     "text": [
      "make_bucket: image-api-example-finalversion\n"
     ]
    }
   ],
   "source": [
    "# make a bucket\n",
    "!aws s3 mb s3://image-api-example-finalversion"
   ]
  },
  {
   "cell_type": "code",
   "execution_count": 1,
   "id": "vanilla-superintendent",
   "metadata": {},
   "outputs": [],
   "source": [
    "import boto3"
   ]
  },
  {
   "cell_type": "code",
   "execution_count": 3,
   "id": "helpful-means",
   "metadata": {},
   "outputs": [
    {
     "data": {
      "text/plain": [
       "s3.Bucket.objectsCollection(s3.Bucket(name='image-api-example-finalversion'), s3.ObjectSummary)"
      ]
     },
     "execution_count": 3,
     "metadata": {},
     "output_type": "execute_result"
    }
   ],
   "source": [
    "s3_resource = boto3.resource('s3')\n",
    "my_bucket = s3_resource.Bucket('image-api-example-finalversion')\n",
    "summaries = my_bucket.objects.all()\n",
    "summaries"
   ]
  },
  {
   "cell_type": "code",
   "execution_count": 4,
   "id": "convenient-monitor",
   "metadata": {
    "collapsed": true,
    "jupyter": {
     "outputs_hidden": true
    }
   },
   "outputs": [
    {
     "data": {
      "text/plain": [
       "[u'c1991.png',\n",
       " u'c1992.png',\n",
       " u'c1993.png',\n",
       " u'c1994.png',\n",
       " u'c1995.png',\n",
       " u'c1996.png',\n",
       " u'c1997.png',\n",
       " u'c1998.png',\n",
       " u'c1999.png',\n",
       " u'c2000.png',\n",
       " u'c2002.png',\n",
       " u'c2003.png',\n",
       " u'c2004.png',\n",
       " u'c2005.png',\n",
       " u'c2006.png',\n",
       " u'c2007.png',\n",
       " u'c2008.png',\n",
       " u'c2009.png',\n",
       " u'c2010.png',\n",
       " u'c2011.png',\n",
       " u'c2012.png',\n",
       " u'c2013.png',\n",
       " u'f1991.png',\n",
       " u'f1992.png',\n",
       " u'f1993.png',\n",
       " u'f1994.png',\n",
       " u'f1995.png',\n",
       " u'f1996.png',\n",
       " u'f1997.png',\n",
       " u'f1998.png',\n",
       " u'f1999.png',\n",
       " u'f2000.png',\n",
       " u'f2001.png',\n",
       " u'f2002.png',\n",
       " u'f2003.png',\n",
       " u'f2005.png',\n",
       " u'f2006.png',\n",
       " u'f2007.png',\n",
       " u'f2008.png',\n",
       " u'f2009.png',\n",
       " u'f2010.png',\n",
       " u'f2011.png',\n",
       " u'f2013.png',\n",
       " u'm1991.png',\n",
       " u'm1992.png',\n",
       " u'm1993.png',\n",
       " u'm1994.png',\n",
       " u'm1995.png',\n",
       " u'm1996.png',\n",
       " u'm1997.png',\n",
       " u'm1998.png',\n",
       " u'm1999.png',\n",
       " u'm2000.png',\n",
       " u'm2001.png',\n",
       " u'm2003.png',\n",
       " u'm2004.png',\n",
       " u'm2005.png',\n",
       " u'm2006.png',\n",
       " u'm2007.png',\n",
       " u'm2008.png',\n",
       " u'm2009.png',\n",
       " u'm2010.png',\n",
       " u'm2011.png',\n",
       " u'm2012.png',\n",
       " u'm2013.png']"
      ]
     },
     "execution_count": 4,
     "metadata": {},
     "output_type": "execute_result"
    }
   ],
   "source": [
    "images = []\n",
    "for image in summaries:\n",
    "    images.append(image.key)\n",
    "images\n",
    "images"
   ]
  },
  {
   "cell_type": "code",
   "execution_count": 5,
   "id": "computational-macintosh",
   "metadata": {},
   "outputs": [],
   "source": [
    "client=boto3.client('rekognition')"
   ]
  },
  {
   "cell_type": "markdown",
   "id": "consolidated-therapy",
   "metadata": {},
   "source": [
    "# Test Set1 "
   ]
  },
  {
   "cell_type": "code",
   "execution_count": 6,
   "id": "personalized-praise",
   "metadata": {},
   "outputs": [],
   "source": [
    "import numpy as np\n",
    "import pandas as pd\n",
    "df = pd.DataFrame()\n",
    "s3_resource = boto3.resource('s3')\n",
    "my_bucket = s3_resource.Bucket('image-api-example-finalversion')\n",
    "summaries = my_bucket.objects.all()\n",
    "image_names = [image.key for image in summaries]\n",
    "df[\"Name\"] = image_names"
   ]
  },
  {
   "cell_type": "code",
   "execution_count": 30,
   "id": "tamil-absorption",
   "metadata": {},
   "outputs": [],
   "source": [
    "qf = pd.DataFrame()\n",
    "qf[\"Name\"] = image_names"
   ]
  },
  {
   "cell_type": "code",
   "execution_count": 23,
   "id": "external-nursing",
   "metadata": {
    "collapsed": true,
    "jupyter": {
     "outputs_hidden": true
    }
   },
   "outputs": [
    {
     "data": {
      "text/plain": [
       "[u'm1991.png',\n",
       " u'm1992.png',\n",
       " u'm1993.png',\n",
       " u'm1994.png',\n",
       " u'm1995.png',\n",
       " u'm1996.png',\n",
       " u'm1997.png',\n",
       " u'm1998.png',\n",
       " u'm1999.png',\n",
       " u'm2000.png',\n",
       " u'm2001.png',\n",
       " u'm2003.png',\n",
       " u'm2004.png',\n",
       " u'm2005.png',\n",
       " u'm2006.png',\n",
       " u'm2007.png',\n",
       " u'm2008.png',\n",
       " u'm2009.png',\n",
       " u'm2010.png',\n",
       " u'm2011.png',\n",
       " u'm2012.png',\n",
       " u'm2013.png']"
      ]
     },
     "execution_count": 23,
     "metadata": {},
     "output_type": "execute_result"
    }
   ],
   "source": [
    "small_name = [\"Similarity-child-91\",\"Similarity-child-92\",\"Similarity-child-93\",\"Similarity-child-94\",\"Similarity-child-95\",\"Similarity-child-96\",\"Similarity-child-97\",\"Similarity-child-98\",\"Similarity-child-99\",\"Similarity-child-00\",\"Similarity-child-02\",\"Similarity-child-03\",\"Similarity-child-04\",\"Similarity-child-05\",\"Similarity-child-06\",\"Similarity-child-07\",\"Similarity-child-08\",\"Similarity-child-09\",\"Similarity-child-10\",\"Similarity-child-11\",\"Similarity-child-12\",\"Similarity-child-13\",\n",
    "              \"Similarity-female-91\",\"Similarity-female-92\",\"Similarity-female-93\",\"Similarity-female-94\",\"Similarity-female-95\",\"Similarity-female-96\",\"Similarity-female-97\",\"Similarity-female-98\",\"Similarity-female-99\",\"Similarity-female-00\",\"Similarity-female-02\",\"Similarity-female-03\",\"Similarity-female-04\",\"Similarity-female-05\",\"Similarity-female-06\",\"Similarity-female-07\",\"Similarity-female-08\",\"Similarity-female-09\",\"Similarity-female-10\",\"Similarity-female-11\",\"Similarity-female-12\",\"Similarity-female-13\",\n",
    "             \"Similarity-male-91\",\"Similarity-male-92\",\"Similarity-male-93\",\"Similarity-male-94\",\"Similarity-male-95\",\"Similarity-male-96\",\"Similarity-male-97\",\"Similarity-male-98\",\"Similarity-male-99\",\"Similarity-male-00\",\"Similarity-male-02\",\"Similarity-male-03\",\"Similarity-male-04\",\"Similarity-male-05\",\"Similarity-male-06\",\"Similarity-male-07\",\"Similarity-male-08\",\"Similarity-male-09\",\"Similarity-male-10\",\"Similarity-male-11\",\"Similarity-male-12\",\"Similarity-male-13\"]\n",
    "\n",
    "big_name = [\"range-child-91\",\"range-child-92\",\"range-child-93\",\"range-child-94\",\"range-child-95\",\"range-child-96\",\"range-child-97\",\"range-child-98\",\"range-child-99\",\"range-child-00\",\"range-child-02\",\"range-child-03\",\"range-child-04\",\"range-child-05\",\"range-child-06\",\"range-child-07\",\"range-child-08\",\"range-child-09\",\"range-child-10\",\"range-child-11\",\"range-child-12\",\"range-child-13\",\n",
    "              \"Similarity-female-91\",\"Similarity-female-92\",\"Similarity-female-93\",\"Similarity-female-94\",\"Similarity-female-95\",\"Similarity-female-96\",\"Similarity-female-97\",\"Similarity-female-98\",\"Similarity-female-99\",\"Similarity-female-00\",\"Similarity-female-02\",\"Similarity-female-03\",\"Similarity-female-04\",\"Similarity-female-05\",\"Similarity-female-06\",\"Similarity-female-07\",\"Similarity-female-08\",\"Similarity-female-09\",\"Similarity-female-10\",\"Similarity-female-11\",\"Similarity-female-12\",\"Similarity-female-13\",\n",
    "             \"Similarity-male-91\",\"Similarity-male-92\",\"Similarity-male-93\",\"Similarity-male-94\",\"Similarity-male-95\",\"Similarity-male-96\",\"Similarity-male-97\",\"Similarity-male-98\",\"Similarity-male-99\",\"Similarity-male-00\",\"Similarity-male-02\",\"Similarity-male-03\",\"Similarity-male-04\",\"Similarity-male-05\",\"Similarity-male-06\",\"Similarity-male-07\",\"Similarity-male-08\",\"Similarity-male-09\",\"Similarity-male-10\",\"Similarity-male-11\",\"Similarity-male-12\",\"Similarity-male-13\"]\n",
    "\n",
    "[photo for photo in images[43:]]"
   ]
  },
  {
   "cell_type": "code",
   "execution_count": 8,
   "id": "american-lodging",
   "metadata": {
    "collapsed": true,
    "jupyter": {
     "outputs_hidden": true
    }
   },
   "outputs": [
    {
     "data": {
      "text/plain": [
       "[u'c1991.png',\n",
       " u'c1992.png',\n",
       " u'c1993.png',\n",
       " u'c1994.png',\n",
       " u'c1995.png',\n",
       " u'c1996.png',\n",
       " u'c1997.png',\n",
       " u'c1998.png',\n",
       " u'c1999.png',\n",
       " u'c2000.png',\n",
       " u'c2002.png',\n",
       " u'c2003.png',\n",
       " u'c2004.png',\n",
       " u'c2005.png',\n",
       " u'c2006.png',\n",
       " u'c2007.png',\n",
       " u'c2008.png',\n",
       " u'c2009.png',\n",
       " u'c2010.png',\n",
       " u'c2011.png',\n",
       " u'c2012.png',\n",
       " u'c2013.png']"
      ]
     },
     "execution_count": 8,
     "metadata": {},
     "output_type": "execute_result"
    }
   ],
   "source": [
    "[photo for photo in images[:22]]"
   ]
  },
  {
   "cell_type": "code",
   "execution_count": 86,
   "id": "hungry-crisis",
   "metadata": {},
   "outputs": [],
   "source": [
    "i = 0\n",
    "for photo in images:\n",
    "    def extract_similarity(image):\n",
    "        try:\n",
    "            comparison = client.compare_faces(SourceImage={'S3Object':{'Bucket':\"image-api-example-finalversion\",'Name':photo}}, TargetImage={'S3Object':{'Bucket':\"image-api-example-finalversion\",'Name':image}})\n",
    "            face_match = comparison['FaceMatches']\n",
    "            image_score = face_match[0]['Similarity'] \n",
    "        except:\n",
    "            image_score = np.nan\n",
    "        return image_score\n",
    "    df[small_name[i]] = [extract_similarity(name) for name in df[\"Name\"]]\n",
    "    i = i + 1\n",
    "    print(i)"
   ]
  },
  {
   "cell_type": "code",
   "execution_count": 16,
   "id": "secondary-chile",
   "metadata": {},
   "outputs": [],
   "source": [
    "df.to_csv('result.csv')"
   ]
  },
  {
   "cell_type": "code",
   "execution_count": 35,
   "id": "sporting-perth",
   "metadata": {},
   "outputs": [],
   "source": [
    "def extract_age(image):\n",
    "    try:\n",
    "        comparison = client.detect_faces(Image={'S3Object':{'Bucket':\"image-api-example-finalversion\",'Name':image}}, Attributes = [\"ALL\"])\n",
    "        age_range = comparison[\"FaceDetails\"][0][\"AgeRange\"] \n",
    "    except:\n",
    "        age_range = np.nan\n",
    "    return age_range"
   ]
  },
  {
   "cell_type": "code",
   "execution_count": 39,
   "id": "prescribed-scene",
   "metadata": {},
   "outputs": [],
   "source": [
    "df[\"Age_Range\"] = [extract_age(name) for name in qf[\"Name\"]]"
   ]
  },
  {
   "cell_type": "code",
   "execution_count": 40,
   "id": "unknown-astronomy",
   "metadata": {},
   "outputs": [],
   "source": [
    "df.to_csv(\"Newresult.csv\")"
   ]
  },
  {
   "cell_type": "code",
   "execution_count": null,
   "id": "judicial-clause",
   "metadata": {},
   "outputs": [],
   "source": []
  },
  {
   "cell_type": "code",
   "execution_count": null,
   "id": "classical-baseball",
   "metadata": {},
   "outputs": [],
   "source": []
  },
  {
   "cell_type": "code",
   "execution_count": null,
   "id": "coupled-share",
   "metadata": {},
   "outputs": [],
   "source": []
  },
  {
   "cell_type": "code",
   "execution_count": null,
   "id": "racial-shopper",
   "metadata": {},
   "outputs": [],
   "source": []
  },
  {
   "cell_type": "code",
   "execution_count": 56,
   "id": "unauthorized-intersection",
   "metadata": {},
   "outputs": [
    {
     "name": "stdout",
     "output_type": "stream",
     "text": [
      "make_bucket: image-api-example-finalversion3\n"
     ]
    }
   ],
   "source": [
    "!aws s3 mb s3://image-api-example-finalversion2"
   ]
  },
  {
   "cell_type": "code",
   "execution_count": 42,
   "id": "mature-canon",
   "metadata": {},
   "outputs": [
    {
     "data": {
      "text/plain": [
       "s3.Bucket.objectsCollection(s3.Bucket(name='image-api-example-finalversion2'), s3.ObjectSummary)"
      ]
     },
     "execution_count": 42,
     "metadata": {},
     "output_type": "execute_result"
    }
   ],
   "source": [
    "s3_resource = boto3.resource('s3')\n",
    "my_bucket = s3_resource.Bucket('image-api-example-finalversion2')\n",
    "summaries = my_bucket.objects.all()\n",
    "summaries"
   ]
  },
  {
   "cell_type": "code",
   "execution_count": 43,
   "id": "quantitative-controversy",
   "metadata": {
    "collapsed": true,
    "jupyter": {
     "outputs_hidden": true
    }
   },
   "outputs": [
    {
     "data": {
      "text/plain": [
       "[u'1age10.png',\n",
       " u'1age16.png',\n",
       " u'1age3.png',\n",
       " u'1age4.png',\n",
       " u'1age6.png',\n",
       " u'1age8.png',\n",
       " u'1age9.png',\n",
       " u'2age15.png',\n",
       " u'2age16.png',\n",
       " u'2age18.png',\n",
       " u'2age20.png',\n",
       " u'2age21.png',\n",
       " u'2age23.png',\n",
       " u'2age26.png',\n",
       " u'2age29.png',\n",
       " u'2age36.png',\n",
       " u'2age38.png',\n",
       " u'2age4.png',\n",
       " u'2age5.png',\n",
       " u'2age7.png']"
      ]
     },
     "execution_count": 43,
     "metadata": {},
     "output_type": "execute_result"
    }
   ],
   "source": [
    "images = []\n",
    "for image in summaries:\n",
    "    images.append(image.key)\n",
    "images\n",
    "images"
   ]
  },
  {
   "cell_type": "code",
   "execution_count": 44,
   "id": "wound-queen",
   "metadata": {},
   "outputs": [],
   "source": [
    "client=boto3.client('rekognition')"
   ]
  },
  {
   "cell_type": "code",
   "execution_count": 45,
   "id": "broad-reward",
   "metadata": {},
   "outputs": [],
   "source": [
    "import numpy as np\n",
    "import pandas as pd\n",
    "ch = pd.DataFrame()\n",
    "s3_resource = boto3.resource('s3')\n",
    "my_bucket = s3_resource.Bucket('image-api-example-finalversion2')\n",
    "summaries = my_bucket.objects.all()\n",
    "image_names = [image.key for image in summaries]\n",
    "ch[\"Name\"] = image_names"
   ]
  },
  {
   "cell_type": "code",
   "execution_count": 46,
   "id": "choice-shoulder",
   "metadata": {},
   "outputs": [],
   "source": [
    "t_name = []\n",
    "for photo in images:\n",
    "    t_name.append(photo)"
   ]
  },
  {
   "cell_type": "code",
   "execution_count": 50,
   "id": "becoming-impression",
   "metadata": {
    "collapsed": true,
    "jupyter": {
     "outputs_hidden": true
    }
   },
   "outputs": [
    {
     "name": "stdout",
     "output_type": "stream",
     "text": [
      "1\n",
      "2\n",
      "3\n",
      "4\n",
      "5\n",
      "6\n",
      "7\n",
      "8\n",
      "9\n",
      "10\n",
      "11\n",
      "12\n",
      "13\n",
      "14\n",
      "15\n",
      "16\n",
      "17\n",
      "18\n",
      "19\n",
      "20\n"
     ]
    }
   ],
   "source": [
    "i = 0\n",
    "for photo in images:\n",
    "    def extract_similarity(image):\n",
    "        try:\n",
    "            comparison = client.compare_faces(SourceImage={'S3Object':{'Bucket':\"image-api-example-finalversion3\",'Name':photo}}, TargetImage={'S3Object':{'Bucket':\"image-api-example-finalversion2\",'Name':image}})\n",
    "            face_match = comparison['FaceMatches']\n",
    "            image_score = face_match[0]['Similarity'] \n",
    "        except:\n",
    "            image_score = np.nan\n",
    "        return image_score\n",
    "    ch[t_name[i]] = [extract_similarity(name) for name in ch[\"Name\"]]\n",
    "    i = i + 1\n",
    "    print(i)"
   ]
  },
  {
   "cell_type": "code",
   "execution_count": 52,
   "id": "angry-newcastle",
   "metadata": {},
   "outputs": [],
   "source": [
    "ch.to_csv(\"resultsection2.csv\")"
   ]
  },
  {
   "cell_type": "code",
   "execution_count": 53,
   "id": "contained-adoption",
   "metadata": {},
   "outputs": [],
   "source": [
    "def extract_age(image):\n",
    "    try:\n",
    "        comparison = client.detect_faces(Image={'S3Object':{'Bucket':\"image-api-example-finalversion2\",'Name':image}}, Attributes = [\"ALL\"])\n",
    "        age_range = comparison[\"FaceDetails\"][0][\"AgeRange\"] \n",
    "    except:\n",
    "        age_range = np.nan\n",
    "    return age_range"
   ]
  },
  {
   "cell_type": "code",
   "execution_count": 54,
   "id": "turkish-format",
   "metadata": {},
   "outputs": [],
   "source": [
    "ch[\"Age_Range\"] = [extract_age(name) for name in ch[\"Name\"]]"
   ]
  },
  {
   "cell_type": "code",
   "execution_count": 58,
   "id": "every-roller",
   "metadata": {},
   "outputs": [],
   "source": [
    "ch.to_csv(\"resultsection3.csv\")"
   ]
  },
  {
   "cell_type": "markdown",
   "id": "directed-sullivan",
   "metadata": {},
   "source": [
    "# Test Set2"
   ]
  },
  {
   "cell_type": "code",
   "execution_count": 12,
   "id": "residential-bleeding",
   "metadata": {},
   "outputs": [],
   "source": [
    "confidence_dict={}\n",
    "for image in images[:-1]:\n",
    "    try:\n",
    "        comparison = client.compare_faces(SourceImage={'S3Object':{'Bucket':\"image-api-example-projectproposal\",'Name':\"finalprojectimage/2age4.png\"}}, TargetImage={'S3Object':{'Bucket':\"image-api-example-projectproposal\",'Name':image}})\n",
    "        face_match = comparison['FaceMatches']\n",
    "        image_score = face_match[0]['Similarity']\n",
    "        confidence_dict[image] = image_score\n",
    "    except Exception:\n",
    "        pass"
   ]
  },
  {
   "cell_type": "code",
   "execution_count": 13,
   "id": "boolean-attraction",
   "metadata": {},
   "outputs": [
    {
     "data": {
      "text/plain": [
       "{u'finalprojectimage/2age18.png': 90.5944595336914,\n",
       " u'finalprojectimage/2age4.png': 100.0,\n",
       " u'finalprojectimage/2age5.png': 97.29381561279297}"
      ]
     },
     "execution_count": 13,
     "metadata": {},
     "output_type": "execute_result"
    }
   ],
   "source": [
    "confidence_dict"
   ]
  },
  {
   "cell_type": "code",
   "execution_count": 14,
   "id": "biological-arbor",
   "metadata": {},
   "outputs": [],
   "source": [
    "confidence_dict={}\n",
    "for image in images[:-1]:\n",
    "    try:\n",
    "        comparison = client.compare_faces(SourceImage={'S3Object':{'Bucket':\"image-api-example-projectproposal\",'Name':\"finalprojectimage/2age7.png\"}}, TargetImage={'S3Object':{'Bucket':\"image-api-example-projectproposal\",'Name':image}})\n",
    "        face_match = comparison['FaceMatches']\n",
    "        image_score = face_match[0]['Similarity']\n",
    "        confidence_dict[image] = image_score\n",
    "    except Exception:\n",
    "        pass"
   ]
  },
  {
   "cell_type": "code",
   "execution_count": 15,
   "id": "backed-nelson",
   "metadata": {},
   "outputs": [
    {
     "data": {
      "text/plain": [
       "{u'finalprojectimage/2age16.png': 97.2121810913086,\n",
       " u'finalprojectimage/2age18.png': 99.10292053222656,\n",
       " u'finalprojectimage/2age20.png': 83.51528930664062,\n",
       " u'finalprojectimage/2age21.png': 87.92134857177734,\n",
       " u'finalprojectimage/2age26.png': 94.41075134277344,\n",
       " u'finalprojectimage/2age29.png': 87.0982437133789,\n",
       " u'finalprojectimage/2age31.png': 96.06549835205078,\n",
       " u'finalprojectimage/2age36.png': 81.68824005126953,\n",
       " u'finalprojectimage/2age38.png': 80.461181640625,\n",
       " u'finalprojectimage/2age4.png': 99.17850494384766,\n",
       " u'finalprojectimage/2age5.png': 98.29149627685547}"
      ]
     },
     "execution_count": 15,
     "metadata": {},
     "output_type": "execute_result"
    }
   ],
   "source": [
    "confidence_dict"
   ]
  },
  {
   "cell_type": "code",
   "execution_count": null,
   "id": "demographic-quality",
   "metadata": {},
   "outputs": [],
   "source": [
    "i = 0\n",
    "for photo in images[0:22]:\n",
    "    def extract_age(image):\n",
    "        try:\n",
    "            comparison = client.detect_faces(Image={'S3Object':{'Bucket':\"image-api-example-finalversion\",'Name':photo}}, Attributes = [\"ALL\"])\n",
    "            age_range = comparison[\"FaceDetails\"][0][\"AgeRange\"] \n",
    "        except:\n",
    "            age_range = np.nan\n",
    "        return age_range\n",
    "    qf[\"Age_Range\"] = [extract_age(name) for name in qf[\"Name\"]]\n",
    "    i = i + 1\n",
    "    print(i)"
   ]
  }
 ],
 "metadata": {
  "kernelspec": {
   "display_name": "conda_chainer_p27",
   "language": "python",
   "name": "conda_chainer_p27"
  },
  "language_info": {
   "codemirror_mode": {
    "name": "ipython",
    "version": 2
   },
   "file_extension": ".py",
   "mimetype": "text/x-python",
   "name": "python",
   "nbconvert_exporter": "python",
   "pygments_lexer": "ipython2",
   "version": "2.7.16"
  }
 },
 "nbformat": 4,
 "nbformat_minor": 5
}

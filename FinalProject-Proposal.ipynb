{
 "cells": [
  {
   "cell_type": "markdown",
   "id": "catholic-wallpaper",
   "metadata": {},
   "source": [
    "To start with, we will build a Amazon S3 bucket. "
   ]
  },
  {
   "cell_type": "code",
   "execution_count": 1,
   "id": "economic-monitor",
   "metadata": {},
   "outputs": [
    {
     "name": "stdout",
     "output_type": "stream",
     "text": [
      "make_bucket failed: s3://image-api-example-finalversion An error occurred (BucketAlreadyExists) when calling the CreateBucket operation: The requested bucket name is not available. The bucket namespace is shared by all users of the system. Please select a different name and try again.\n"
     ]
    }
   ],
   "source": [
    "# make a bucket\n",
    "!aws s3 mb s3://image-api-example-finalversion"
   ]
  },
  {
   "cell_type": "code",
   "execution_count": 2,
   "id": "suffering-restoration",
   "metadata": {},
   "outputs": [],
   "source": [
    "# Import important package\n",
    "import boto3"
   ]
  },
  {
   "cell_type": "markdown",
   "id": "given-spyware",
   "metadata": {},
   "source": [
    " Then we need to loop through the images in the bucket. To do this we will first make a Python list of all the images in the bucket. First we use boto3 to make an instance of an object s3_resource that will allow us to communicate with S3.\n"
   ]
  },
  {
   "cell_type": "code",
   "execution_count": 3,
   "id": "hearing-gnome",
   "metadata": {},
   "outputs": [
    {
     "data": {
      "text/plain": [
       "s3.Bucket.objectsCollection(s3.Bucket(name='image-api-example-finalversion'), s3.ObjectSummary)"
      ]
     },
     "execution_count": 3,
     "metadata": {},
     "output_type": "execute_result"
    }
   ],
   "source": [
    "s3_resource = boto3.resource('s3')\n",
    "my_bucket = s3_resource.Bucket('image-api-example-finalversion')\n",
    "summaries = my_bucket.objects.all()\n",
    "summaries"
   ]
  },
  {
   "cell_type": "markdown",
   "id": "royal-steam",
   "metadata": {},
   "source": [
    "We create a list called images, and using loop to add the name of the image into the list for later usage"
   ]
  },
  {
   "cell_type": "code",
   "execution_count": 4,
   "id": "alive-petersburg",
   "metadata": {
    "collapsed": true,
    "jupyter": {
     "outputs_hidden": true
    }
   },
   "outputs": [
    {
     "data": {
      "text/plain": [
       "[u'c1991.png',\n",
       " u'c1992.png',\n",
       " u'c1993.png',\n",
       " u'c1994.png',\n",
       " u'c1995.png',\n",
       " u'c1996.png',\n",
       " u'c1997.png',\n",
       " u'c1998.png',\n",
       " u'c1999.png',\n",
       " u'c2000.png',\n",
       " u'c2002.png',\n",
       " u'c2003.png',\n",
       " u'c2004.png',\n",
       " u'c2005.png',\n",
       " u'c2006.png',\n",
       " u'c2007.png',\n",
       " u'c2008.png',\n",
       " u'c2009.png',\n",
       " u'c2010.png',\n",
       " u'c2011.png',\n",
       " u'c2012.png',\n",
       " u'c2013.png',\n",
       " u'f1991.png',\n",
       " u'f1992.png',\n",
       " u'f1993.png',\n",
       " u'f1994.png',\n",
       " u'f1995.png',\n",
       " u'f1996.png',\n",
       " u'f1997.png',\n",
       " u'f1998.png',\n",
       " u'f1999.png',\n",
       " u'f2000.png',\n",
       " u'f2001.png',\n",
       " u'f2002.png',\n",
       " u'f2003.png',\n",
       " u'f2005.png',\n",
       " u'f2006.png',\n",
       " u'f2007.png',\n",
       " u'f2008.png',\n",
       " u'f2009.png',\n",
       " u'f2010.png',\n",
       " u'f2011.png',\n",
       " u'f2013.png',\n",
       " u'm1991.png',\n",
       " u'm1992.png',\n",
       " u'm1993.png',\n",
       " u'm1994.png',\n",
       " u'm1995.png',\n",
       " u'm1996.png',\n",
       " u'm1997.png',\n",
       " u'm1998.png',\n",
       " u'm1999.png',\n",
       " u'm2000.png',\n",
       " u'm2001.png',\n",
       " u'm2003.png',\n",
       " u'm2004.png',\n",
       " u'm2005.png',\n",
       " u'm2006.png',\n",
       " u'm2007.png',\n",
       " u'm2008.png',\n",
       " u'm2009.png',\n",
       " u'm2010.png',\n",
       " u'm2011.png',\n",
       " u'm2012.png',\n",
       " u'm2013.png']"
      ]
     },
     "execution_count": 4,
     "metadata": {},
     "output_type": "execute_result"
    }
   ],
   "source": [
    "images = []\n",
    "for image in summaries:\n",
    "    images.append(image.key)\n",
    "images\n",
    "images"
   ]
  },
  {
   "cell_type": "markdown",
   "id": "interesting-design",
   "metadata": {},
   "source": [
    "Then we create an create an instance client of the client object in the boto3 package for rekognition.It will allow use to communicate and make requests to the Rekognition service using Python."
   ]
  },
  {
   "cell_type": "code",
   "execution_count": 5,
   "id": "black-distribution",
   "metadata": {},
   "outputs": [],
   "source": [
    "# Create an instance client of the client object in the boto3 package for rekognition\n",
    "\n",
    "client=boto3.client('rekognition')"
   ]
  },
  {
   "cell_type": "markdown",
   "id": "eleven-amount",
   "metadata": {},
   "source": [
    "# Dataset 1 "
   ]
  },
  {
   "cell_type": "markdown",
   "id": "flush-potential",
   "metadata": {},
   "source": [
    "In the below chunck of code, we import two important package numpy and pandas into the enviroment for later usage, create an empty dataset called df using pd, use boto3 to make an instance of an object s3_resource that will allow us to communicate with S3, and loop thorugh the summaries bucket and add the images names into the df dataframe under the column \"Name\"\n"
   ]
  },
  {
   "cell_type": "code",
   "execution_count": 6,
   "id": "consolidated-label",
   "metadata": {},
   "outputs": [],
   "source": [
    "import numpy as np\n",
    "import pandas as pd\n",
    "df = pd.DataFrame()\n",
    "s3_resource = boto3.resource('s3')\n",
    "my_bucket = s3_resource.Bucket('image-api-example-finalversion')\n",
    "summaries = my_bucket.objects.all()\n",
    "image_names = [image.key for image in summaries]\n",
    "df[\"Name\"] = image_names"
   ]
  },
  {
   "cell_type": "markdown",
   "id": "coastal-practice",
   "metadata": {},
   "source": [
    "We also make a new dataframe called qf using pd and add the images names into the df dataframe under the column \"Name\""
   ]
  },
  {
   "cell_type": "code",
   "execution_count": 30,
   "id": "australian-butler",
   "metadata": {},
   "outputs": [],
   "source": [
    "qf = pd.DataFrame()\n",
    "qf[\"Name\"] = image_names"
   ]
  },
  {
   "cell_type": "markdown",
   "id": "silent-parker",
   "metadata": {},
   "source": [
    "We then create a list called small_name and add all the image names into the list, and use it latter for the column names in the loop function."
   ]
  },
  {
   "cell_type": "code",
   "execution_count": 3,
   "id": "natural-beaver",
   "metadata": {},
   "outputs": [],
   "source": [
    "small_name = [\"Similarity-child-91\",\"Similarity-child-92\",\"Similarity-child-93\",\"Similarity-child-94\",\"Similarity-child-95\",\"Similarity-child-96\",\"Similarity-child-97\",\"Similarity-child-98\",\"Similarity-child-99\",\"Similarity-child-00\",\"Similarity-child-02\",\"Similarity-child-03\",\"Similarity-child-04\",\"Similarity-child-05\",\"Similarity-child-06\",\"Similarity-child-07\",\"Similarity-child-08\",\"Similarity-child-09\",\"Similarity-child-10\",\"Similarity-child-11\",\"Similarity-child-12\",\"Similarity-child-13\",\n",
    "              \"Similarity-female-91\",\"Similarity-female-92\",\"Similarity-female-93\",\"Similarity-female-94\",\"Similarity-female-95\",\"Similarity-female-96\",\"Similarity-female-97\",\"Similarity-female-98\",\"Similarity-female-99\",\"Similarity-female-00\",\"Similarity-female-02\",\"Similarity-female-03\",\"Similarity-female-04\",\"Similarity-female-05\",\"Similarity-female-06\",\"Similarity-female-07\",\"Similarity-female-08\",\"Similarity-female-09\",\"Similarity-female-10\",\"Similarity-female-11\",\"Similarity-female-12\",\"Similarity-female-13\",\n",
    "             \"Similarity-male-91\",\"Similarity-male-92\",\"Similarity-male-93\",\"Similarity-male-94\",\"Similarity-male-95\",\"Similarity-male-96\",\"Similarity-male-97\",\"Similarity-male-98\",\"Similarity-male-99\",\"Similarity-male-00\",\"Similarity-male-02\",\"Similarity-male-03\",\"Similarity-male-04\",\"Similarity-male-05\",\"Similarity-male-06\",\"Similarity-male-07\",\"Similarity-male-08\",\"Similarity-male-09\",\"Similarity-male-10\",\"Similarity-male-11\",\"Similarity-male-12\",\"Similarity-male-13\"]\n",
    "\n",
    "big_name = [\"range-child-91\",\"range-child-92\",\"range-child-93\",\"range-child-94\",\"range-child-95\",\"range-child-96\",\"range-child-97\",\"range-child-98\",\"range-child-99\",\"range-child-00\",\"range-child-02\",\"range-child-03\",\"range-child-04\",\"range-child-05\",\"range-child-06\",\"range-child-07\",\"range-child-08\",\"range-child-09\",\"range-child-10\",\"range-child-11\",\"range-child-12\",\"range-child-13\",\n",
    "              \"Similarity-female-91\",\"Similarity-female-92\",\"Similarity-female-93\",\"Similarity-female-94\",\"Similarity-female-95\",\"Similarity-female-96\",\"Similarity-female-97\",\"Similarity-female-98\",\"Similarity-female-99\",\"Similarity-female-00\",\"Similarity-female-02\",\"Similarity-female-03\",\"Similarity-female-04\",\"Similarity-female-05\",\"Similarity-female-06\",\"Similarity-female-07\",\"Similarity-female-08\",\"Similarity-female-09\",\"Similarity-female-10\",\"Similarity-female-11\",\"Similarity-female-12\",\"Similarity-female-13\",\n",
    "             \"Similarity-male-91\",\"Similarity-male-92\",\"Similarity-male-93\",\"Similarity-male-94\",\"Similarity-male-95\",\"Similarity-male-96\",\"Similarity-male-97\",\"Similarity-male-98\",\"Similarity-male-99\",\"Similarity-male-00\",\"Similarity-male-02\",\"Similarity-male-03\",\"Similarity-male-04\",\"Similarity-male-05\",\"Similarity-male-06\",\"Similarity-male-07\",\"Similarity-male-08\",\"Similarity-male-09\",\"Similarity-male-10\",\"Similarity-male-11\",\"Similarity-male-12\",\"Similarity-male-13\"]\n"
   ]
  },
  {
   "cell_type": "markdown",
   "id": "grateful-retreat",
   "metadata": {},
   "source": [
    "For this chunk, we first create a constant i = 0 for later usage in the loop.Then we make a loop function. Inside the loop function we define a function called extract_similarity to extract the similarity value for each set using the compare_faces function in the rekognition. After we got the image_score we store it into the df dataframe and stored it under the column name small_name at the i position."
   ]
  },
  {
   "cell_type": "code",
   "execution_count": 86,
   "id": "regulated-ministry",
   "metadata": {},
   "outputs": [],
   "source": [
    "i = 0\n",
    "for photo in images:\n",
    "    def extract_similarity(image):\n",
    "        try:\n",
    "            comparison = client.compare_faces(SourceImage={'S3Object':{'Bucket':\"image-api-example-finalversion\",'Name':photo}}, TargetImage={'S3Object':{'Bucket':\"image-api-example-finalversion\",'Name':image}})\n",
    "            face_match = comparison['FaceMatches']\n",
    "            image_score = face_match[0]['Similarity'] \n",
    "        except:\n",
    "            image_score = np.nan\n",
    "        return image_score\n",
    "    df[small_name[i]] = [extract_similarity(name) for name in df[\"Name\"]]\n",
    "    i = i + 1\n",
    "    print(i)"
   ]
  },
  {
   "cell_type": "markdown",
   "id": "naked-brick",
   "metadata": {},
   "source": [
    "Here we define a function called extract_Age to extract the age range value for each image using the detect_faces function in the rekognition."
   ]
  },
  {
   "cell_type": "code",
   "execution_count": 35,
   "id": "similar-hebrew",
   "metadata": {},
   "outputs": [],
   "source": [
    "def extract_age(image):\n",
    "    try:\n",
    "        comparison = client.detect_faces(Image={'S3Object':{'Bucket':\"image-api-example-finalversion\",'Name':image}}, Attributes = [\"ALL\"])\n",
    "        age_range = comparison[\"FaceDetails\"][0][\"AgeRange\"] \n",
    "    except:\n",
    "        age_range = np.nan\n",
    "    return age_range"
   ]
  },
  {
   "cell_type": "markdown",
   "id": "seeing-member",
   "metadata": {},
   "source": [
    "After we got the age_range we store it into the df dataframe and stored it under the column name \"Age_range\"."
   ]
  },
  {
   "cell_type": "code",
   "execution_count": 39,
   "id": "super-violin",
   "metadata": {},
   "outputs": [],
   "source": [
    "df[\"Age_Range\"] = [extract_age(name) for name in qf[\"Name\"]]"
   ]
  },
  {
   "cell_type": "markdown",
   "id": "regulation-mouse",
   "metadata": {},
   "source": [
    "Finally, we output the result to a csv file called Newresult.csv"
   ]
  },
  {
   "cell_type": "code",
   "execution_count": 4,
   "id": "still-asset",
   "metadata": {},
   "outputs": [
    {
     "ename": "NameError",
     "evalue": "name 'df' is not defined",
     "output_type": "error",
     "traceback": [
      "\u001b[0;31m\u001b[0m",
      "\u001b[0;31mNameError\u001b[0mTraceback (most recent call last)",
      "\u001b[0;32m<ipython-input-4-78d27406ff30>\u001b[0m in \u001b[0;36m<module>\u001b[0;34m()\u001b[0m\n\u001b[0;32m----> 1\u001b[0;31m \u001b[0mdf\u001b[0m\u001b[0;34m.\u001b[0m\u001b[0mto_csv\u001b[0m\u001b[0;34m(\u001b[0m\u001b[0;34m\"Newresult.csv\"\u001b[0m\u001b[0;34m)\u001b[0m\u001b[0;34m\u001b[0m\u001b[0m\n\u001b[0m",
      "\u001b[0;31mNameError\u001b[0m: name 'df' is not defined"
     ]
    }
   ],
   "source": [
    "df.to_csv(\"Newresult.csv\")"
   ]
  },
  {
   "cell_type": "raw",
   "id": "expired-indicator",
   "metadata": {},
   "source": []
  },
  {
   "cell_type": "markdown",
   "id": "different-syracuse",
   "metadata": {},
   "source": [
    "# Dataset 2"
   ]
  },
  {
   "cell_type": "markdown",
   "id": "knowing-destruction",
   "metadata": {},
   "source": [
    "First, make an Amazon S3 bucket"
   ]
  },
  {
   "cell_type": "code",
   "execution_count": 1,
   "id": "monetary-survivor",
   "metadata": {},
   "outputs": [
    {
     "name": "stdout",
     "output_type": "stream",
     "text": [
      "make_bucket: image-api-example-finalversion2\n"
     ]
    }
   ],
   "source": [
    "!aws s3 mb s3://image-api-example-finalversion2"
   ]
  },
  {
   "cell_type": "markdown",
   "id": "endless-receptor",
   "metadata": {},
   "source": [
    "Then we need to loop through the images in the bucket. To do this we will first make a Python list of all the images in the bucket.\n",
    "First we use boto3 to make an instance of an object s3_resource that will allow us to communicate with S3.\n"
   ]
  },
  {
   "cell_type": "code",
   "execution_count": 42,
   "id": "international-skating",
   "metadata": {},
   "outputs": [
    {
     "data": {
      "text/plain": [
       "s3.Bucket.objectsCollection(s3.Bucket(name='image-api-example-finalversion2'), s3.ObjectSummary)"
      ]
     },
     "execution_count": 42,
     "metadata": {},
     "output_type": "execute_result"
    }
   ],
   "source": [
    "s3_resource = boto3.resource('s3')\n",
    "my_bucket = s3_resource.Bucket('image-api-example-finalversion2')\n",
    "summaries = my_bucket.objects.all()\n",
    "summaries"
   ]
  },
  {
   "cell_type": "markdown",
   "id": "advisory-perfume",
   "metadata": {},
   "source": [
    "We create a list called images, and using loop to add the name of the image into the list for later usage"
   ]
  },
  {
   "cell_type": "code",
   "execution_count": 43,
   "id": "likely-annotation",
   "metadata": {
    "collapsed": true,
    "jupyter": {
     "outputs_hidden": true
    }
   },
   "outputs": [
    {
     "data": {
      "text/plain": [
       "[u'1age10.png',\n",
       " u'1age16.png',\n",
       " u'1age3.png',\n",
       " u'1age4.png',\n",
       " u'1age6.png',\n",
       " u'1age8.png',\n",
       " u'1age9.png',\n",
       " u'2age15.png',\n",
       " u'2age16.png',\n",
       " u'2age18.png',\n",
       " u'2age20.png',\n",
       " u'2age21.png',\n",
       " u'2age23.png',\n",
       " u'2age26.png',\n",
       " u'2age29.png',\n",
       " u'2age36.png',\n",
       " u'2age38.png',\n",
       " u'2age4.png',\n",
       " u'2age5.png',\n",
       " u'2age7.png']"
      ]
     },
     "execution_count": 43,
     "metadata": {},
     "output_type": "execute_result"
    }
   ],
   "source": [
    "images = []\n",
    "for image in summaries:\n",
    "    images.append(image.key)\n",
    "images\n",
    "images"
   ]
  },
  {
   "cell_type": "markdown",
   "id": "composed-things",
   "metadata": {},
   "source": [
    "Then, we create an instance client of the client object in the boto3 package for rekognition. It will allow use to communicate and make requests to the Rekognition service using Python.\n"
   ]
  },
  {
   "cell_type": "code",
   "execution_count": 44,
   "id": "eastern-samba",
   "metadata": {},
   "outputs": [],
   "source": [
    "client=boto3.client('rekognition')"
   ]
  },
  {
   "cell_type": "markdown",
   "id": "static-nutrition",
   "metadata": {},
   "source": [
    "We import two important package numpy and pandas into the enviroment for later usage, create an empty dataset called df using pd, use boto3 to make an instance of an object s3_resource that will allow us to communicate with S3.\n",
    "and we loop thorugh the summaries bucket and add the images names into the ch dataframe under the column \"Name\"\n",
    "\n"
   ]
  },
  {
   "cell_type": "code",
   "execution_count": 5,
   "id": "manufactured-skill",
   "metadata": {
    "jupyter": {
     "source_hidden": true
    }
   },
   "outputs": [
    {
     "name": "stderr",
     "output_type": "stream",
     "text": [
      "/home/ec2-user/anaconda3/envs/amazonei_mxnet_p27/lib/python2.7/site-packages/boto3/compat.py:86: PythonDeprecationWarning: Boto3 will no longer support Python 2.7 starting July 15, 2021. To continue receiving service updates, bug fixes, and security updates please upgrade to Python 3.6 or later. More information can be found here: https://aws.amazon.com/blogs/developer/announcing-end-of-support-for-python-2-7-in-aws-sdk-for-python-and-aws-cli-v1/\n",
      "  warnings.warn(warning, PythonDeprecationWarning)\n"
     ]
    },
    {
     "ename": "ClientError",
     "evalue": "An error occurred (AccessDenied) when calling the ListObjects operation: Access Denied",
     "output_type": "error",
     "traceback": [
      "\u001b[0;31m\u001b[0m",
      "\u001b[0;31mClientError\u001b[0mTraceback (most recent call last)",
      "\u001b[0;32m<ipython-input-5-4945fa1ce9d2>\u001b[0m in \u001b[0;36m<module>\u001b[0;34m()\u001b[0m\n\u001b[1;32m      5\u001b[0m \u001b[0mmy_bucket\u001b[0m \u001b[0;34m=\u001b[0m \u001b[0ms3_resource\u001b[0m\u001b[0;34m.\u001b[0m\u001b[0mBucket\u001b[0m\u001b[0;34m(\u001b[0m\u001b[0;34m'image-api-example-finalversion2'\u001b[0m\u001b[0;34m)\u001b[0m\u001b[0;34m\u001b[0m\u001b[0m\n\u001b[1;32m      6\u001b[0m \u001b[0msummaries\u001b[0m \u001b[0;34m=\u001b[0m \u001b[0mmy_bucket\u001b[0m\u001b[0;34m.\u001b[0m\u001b[0mobjects\u001b[0m\u001b[0;34m.\u001b[0m\u001b[0mall\u001b[0m\u001b[0;34m(\u001b[0m\u001b[0;34m)\u001b[0m\u001b[0;34m\u001b[0m\u001b[0m\n\u001b[0;32m----> 7\u001b[0;31m \u001b[0mimage_names\u001b[0m \u001b[0;34m=\u001b[0m \u001b[0;34m[\u001b[0m\u001b[0mimage\u001b[0m\u001b[0;34m.\u001b[0m\u001b[0mkey\u001b[0m \u001b[0;32mfor\u001b[0m \u001b[0mimage\u001b[0m \u001b[0;32min\u001b[0m \u001b[0msummaries\u001b[0m\u001b[0;34m]\u001b[0m\u001b[0;34m\u001b[0m\u001b[0m\n\u001b[0m\u001b[1;32m      8\u001b[0m \u001b[0mch\u001b[0m\u001b[0;34m[\u001b[0m\u001b[0;34m\"Name\"\u001b[0m\u001b[0;34m]\u001b[0m \u001b[0;34m=\u001b[0m \u001b[0mimage_names\u001b[0m\u001b[0;34m\u001b[0m\u001b[0m\n",
      "\u001b[0;32m/home/ec2-user/anaconda3/envs/amazonei_mxnet_p27/lib/python2.7/site-packages/boto3/resources/collection.pyc\u001b[0m in \u001b[0;36m__iter__\u001b[0;34m(self)\u001b[0m\n\u001b[1;32m     81\u001b[0m \u001b[0;34m\u001b[0m\u001b[0m\n\u001b[1;32m     82\u001b[0m         \u001b[0mcount\u001b[0m \u001b[0;34m=\u001b[0m \u001b[0;36m0\u001b[0m\u001b[0;34m\u001b[0m\u001b[0m\n\u001b[0;32m---> 83\u001b[0;31m         \u001b[0;32mfor\u001b[0m \u001b[0mpage\u001b[0m \u001b[0;32min\u001b[0m \u001b[0mself\u001b[0m\u001b[0;34m.\u001b[0m\u001b[0mpages\u001b[0m\u001b[0;34m(\u001b[0m\u001b[0;34m)\u001b[0m\u001b[0;34m:\u001b[0m\u001b[0;34m\u001b[0m\u001b[0m\n\u001b[0m\u001b[1;32m     84\u001b[0m             \u001b[0;32mfor\u001b[0m \u001b[0mitem\u001b[0m \u001b[0;32min\u001b[0m \u001b[0mpage\u001b[0m\u001b[0;34m:\u001b[0m\u001b[0;34m\u001b[0m\u001b[0m\n\u001b[1;32m     85\u001b[0m                 \u001b[0;32myield\u001b[0m \u001b[0mitem\u001b[0m\u001b[0;34m\u001b[0m\u001b[0m\n",
      "\u001b[0;32m/home/ec2-user/anaconda3/envs/amazonei_mxnet_p27/lib/python2.7/site-packages/boto3/resources/collection.pyc\u001b[0m in \u001b[0;36mpages\u001b[0;34m(self)\u001b[0m\n\u001b[1;32m    164\u001b[0m         \u001b[0;31m# we start processing and yielding individual items.\u001b[0m\u001b[0;34m\u001b[0m\u001b[0;34m\u001b[0m\u001b[0m\n\u001b[1;32m    165\u001b[0m         \u001b[0mcount\u001b[0m \u001b[0;34m=\u001b[0m \u001b[0;36m0\u001b[0m\u001b[0;34m\u001b[0m\u001b[0m\n\u001b[0;32m--> 166\u001b[0;31m         \u001b[0;32mfor\u001b[0m \u001b[0mpage\u001b[0m \u001b[0;32min\u001b[0m \u001b[0mpages\u001b[0m\u001b[0;34m:\u001b[0m\u001b[0;34m\u001b[0m\u001b[0m\n\u001b[0m\u001b[1;32m    167\u001b[0m             \u001b[0mpage_items\u001b[0m \u001b[0;34m=\u001b[0m \u001b[0;34m[\u001b[0m\u001b[0;34m]\u001b[0m\u001b[0;34m\u001b[0m\u001b[0m\n\u001b[1;32m    168\u001b[0m             \u001b[0;32mfor\u001b[0m \u001b[0mitem\u001b[0m \u001b[0;32min\u001b[0m \u001b[0mself\u001b[0m\u001b[0;34m.\u001b[0m\u001b[0m_handler\u001b[0m\u001b[0;34m(\u001b[0m\u001b[0mself\u001b[0m\u001b[0;34m.\u001b[0m\u001b[0m_parent\u001b[0m\u001b[0;34m,\u001b[0m \u001b[0mparams\u001b[0m\u001b[0;34m,\u001b[0m \u001b[0mpage\u001b[0m\u001b[0;34m)\u001b[0m\u001b[0;34m:\u001b[0m\u001b[0;34m\u001b[0m\u001b[0m\n",
      "\u001b[0;32m/home/ec2-user/anaconda3/envs/amazonei_mxnet_p27/lib/python2.7/site-packages/botocore/paginate.pyc\u001b[0m in \u001b[0;36m__iter__\u001b[0;34m(self)\u001b[0m\n\u001b[1;32m    253\u001b[0m         \u001b[0mself\u001b[0m\u001b[0;34m.\u001b[0m\u001b[0m_inject_starting_params\u001b[0m\u001b[0;34m(\u001b[0m\u001b[0mcurrent_kwargs\u001b[0m\u001b[0;34m)\u001b[0m\u001b[0;34m\u001b[0m\u001b[0m\n\u001b[1;32m    254\u001b[0m         \u001b[0;32mwhile\u001b[0m \u001b[0mTrue\u001b[0m\u001b[0;34m:\u001b[0m\u001b[0;34m\u001b[0m\u001b[0m\n\u001b[0;32m--> 255\u001b[0;31m             \u001b[0mresponse\u001b[0m \u001b[0;34m=\u001b[0m \u001b[0mself\u001b[0m\u001b[0;34m.\u001b[0m\u001b[0m_make_request\u001b[0m\u001b[0;34m(\u001b[0m\u001b[0mcurrent_kwargs\u001b[0m\u001b[0;34m)\u001b[0m\u001b[0;34m\u001b[0m\u001b[0m\n\u001b[0m\u001b[1;32m    256\u001b[0m             \u001b[0mparsed\u001b[0m \u001b[0;34m=\u001b[0m \u001b[0mself\u001b[0m\u001b[0;34m.\u001b[0m\u001b[0m_extract_parsed_response\u001b[0m\u001b[0;34m(\u001b[0m\u001b[0mresponse\u001b[0m\u001b[0;34m)\u001b[0m\u001b[0;34m\u001b[0m\u001b[0m\n\u001b[1;32m    257\u001b[0m             \u001b[0;32mif\u001b[0m \u001b[0mfirst_request\u001b[0m\u001b[0;34m:\u001b[0m\u001b[0;34m\u001b[0m\u001b[0m\n",
      "\u001b[0;32m/home/ec2-user/anaconda3/envs/amazonei_mxnet_p27/lib/python2.7/site-packages/botocore/paginate.pyc\u001b[0m in \u001b[0;36m_make_request\u001b[0;34m(self, current_kwargs)\u001b[0m\n\u001b[1;32m    330\u001b[0m \u001b[0;34m\u001b[0m\u001b[0m\n\u001b[1;32m    331\u001b[0m     \u001b[0;32mdef\u001b[0m \u001b[0m_make_request\u001b[0m\u001b[0;34m(\u001b[0m\u001b[0mself\u001b[0m\u001b[0;34m,\u001b[0m \u001b[0mcurrent_kwargs\u001b[0m\u001b[0;34m)\u001b[0m\u001b[0;34m:\u001b[0m\u001b[0;34m\u001b[0m\u001b[0m\n\u001b[0;32m--> 332\u001b[0;31m         \u001b[0;32mreturn\u001b[0m \u001b[0mself\u001b[0m\u001b[0;34m.\u001b[0m\u001b[0m_method\u001b[0m\u001b[0;34m(\u001b[0m\u001b[0;34m**\u001b[0m\u001b[0mcurrent_kwargs\u001b[0m\u001b[0;34m)\u001b[0m\u001b[0;34m\u001b[0m\u001b[0m\n\u001b[0m\u001b[1;32m    333\u001b[0m \u001b[0;34m\u001b[0m\u001b[0m\n\u001b[1;32m    334\u001b[0m     \u001b[0;32mdef\u001b[0m \u001b[0m_extract_parsed_response\u001b[0m\u001b[0;34m(\u001b[0m\u001b[0mself\u001b[0m\u001b[0;34m,\u001b[0m \u001b[0mresponse\u001b[0m\u001b[0;34m)\u001b[0m\u001b[0;34m:\u001b[0m\u001b[0;34m\u001b[0m\u001b[0m\n",
      "\u001b[0;32m/home/ec2-user/anaconda3/envs/amazonei_mxnet_p27/lib/python2.7/site-packages/botocore/client.pyc\u001b[0m in \u001b[0;36m_api_call\u001b[0;34m(self, *args, **kwargs)\u001b[0m\n\u001b[1;32m    355\u001b[0m                     \"%s() only accepts keyword arguments.\" % py_operation_name)\n\u001b[1;32m    356\u001b[0m             \u001b[0;31m# The \"self\" in this scope is referring to the BaseClient.\u001b[0m\u001b[0;34m\u001b[0m\u001b[0;34m\u001b[0m\u001b[0m\n\u001b[0;32m--> 357\u001b[0;31m             \u001b[0;32mreturn\u001b[0m \u001b[0mself\u001b[0m\u001b[0;34m.\u001b[0m\u001b[0m_make_api_call\u001b[0m\u001b[0;34m(\u001b[0m\u001b[0moperation_name\u001b[0m\u001b[0;34m,\u001b[0m \u001b[0mkwargs\u001b[0m\u001b[0;34m)\u001b[0m\u001b[0;34m\u001b[0m\u001b[0m\n\u001b[0m\u001b[1;32m    358\u001b[0m \u001b[0;34m\u001b[0m\u001b[0m\n\u001b[1;32m    359\u001b[0m         \u001b[0m_api_call\u001b[0m\u001b[0;34m.\u001b[0m\u001b[0m__name__\u001b[0m \u001b[0;34m=\u001b[0m \u001b[0mstr\u001b[0m\u001b[0;34m(\u001b[0m\u001b[0mpy_operation_name\u001b[0m\u001b[0;34m)\u001b[0m\u001b[0;34m\u001b[0m\u001b[0m\n",
      "\u001b[0;32m/home/ec2-user/anaconda3/envs/amazonei_mxnet_p27/lib/python2.7/site-packages/botocore/client.pyc\u001b[0m in \u001b[0;36m_make_api_call\u001b[0;34m(self, operation_name, api_params)\u001b[0m\n\u001b[1;32m    674\u001b[0m             \u001b[0merror_code\u001b[0m \u001b[0;34m=\u001b[0m \u001b[0mparsed_response\u001b[0m\u001b[0;34m.\u001b[0m\u001b[0mget\u001b[0m\u001b[0;34m(\u001b[0m\u001b[0;34m\"Error\"\u001b[0m\u001b[0;34m,\u001b[0m \u001b[0;34m{\u001b[0m\u001b[0;34m}\u001b[0m\u001b[0;34m)\u001b[0m\u001b[0;34m.\u001b[0m\u001b[0mget\u001b[0m\u001b[0;34m(\u001b[0m\u001b[0;34m\"Code\"\u001b[0m\u001b[0;34m)\u001b[0m\u001b[0;34m\u001b[0m\u001b[0m\n\u001b[1;32m    675\u001b[0m             \u001b[0merror_class\u001b[0m \u001b[0;34m=\u001b[0m \u001b[0mself\u001b[0m\u001b[0;34m.\u001b[0m\u001b[0mexceptions\u001b[0m\u001b[0;34m.\u001b[0m\u001b[0mfrom_code\u001b[0m\u001b[0;34m(\u001b[0m\u001b[0merror_code\u001b[0m\u001b[0;34m)\u001b[0m\u001b[0;34m\u001b[0m\u001b[0m\n\u001b[0;32m--> 676\u001b[0;31m             \u001b[0;32mraise\u001b[0m \u001b[0merror_class\u001b[0m\u001b[0;34m(\u001b[0m\u001b[0mparsed_response\u001b[0m\u001b[0;34m,\u001b[0m \u001b[0moperation_name\u001b[0m\u001b[0;34m)\u001b[0m\u001b[0;34m\u001b[0m\u001b[0m\n\u001b[0m\u001b[1;32m    677\u001b[0m         \u001b[0;32melse\u001b[0m\u001b[0;34m:\u001b[0m\u001b[0;34m\u001b[0m\u001b[0m\n\u001b[1;32m    678\u001b[0m             \u001b[0;32mreturn\u001b[0m \u001b[0mparsed_response\u001b[0m\u001b[0;34m\u001b[0m\u001b[0m\n",
      "\u001b[0;31mClientError\u001b[0m: An error occurred (AccessDenied) when calling the ListObjects operation: Access Denied"
     ]
    }
   ],
   "source": [
    "import numpy as np\n",
    "import pandas as pd\n",
    "ch = pd.DataFrame()\n",
    "s3_resource = boto3.resource('s3')\n",
    "my_bucket = s3_resource.Bucket('image-api-example-finalversion2')\n",
    "summaries = my_bucket.objects.all()\n",
    "image_names = [image.key for image in summaries]\n",
    "ch[\"Name\"] = image_names"
   ]
  },
  {
   "cell_type": "markdown",
   "id": "coupled-influence",
   "metadata": {},
   "source": [
    "We create a list called t_name, and using loop to add the name of the image into the list for later usage"
   ]
  },
  {
   "cell_type": "code",
   "execution_count": 6,
   "id": "environmental-jaguar",
   "metadata": {},
   "outputs": [
    {
     "ename": "NameError",
     "evalue": "name 'images' is not defined",
     "output_type": "error",
     "traceback": [
      "\u001b[0;31m\u001b[0m",
      "\u001b[0;31mNameError\u001b[0mTraceback (most recent call last)",
      "\u001b[0;32m<ipython-input-6-3dda99eb68fe>\u001b[0m in \u001b[0;36m<module>\u001b[0;34m()\u001b[0m\n\u001b[1;32m      1\u001b[0m \u001b[0mt_name\u001b[0m \u001b[0;34m=\u001b[0m \u001b[0;34m[\u001b[0m\u001b[0;34m]\u001b[0m\u001b[0;34m\u001b[0m\u001b[0m\n\u001b[0;32m----> 2\u001b[0;31m \u001b[0;32mfor\u001b[0m \u001b[0mphoto\u001b[0m \u001b[0;32min\u001b[0m \u001b[0mimages\u001b[0m\u001b[0;34m:\u001b[0m\u001b[0;34m\u001b[0m\u001b[0m\n\u001b[0m\u001b[1;32m      3\u001b[0m     \u001b[0mt_name\u001b[0m\u001b[0;34m.\u001b[0m\u001b[0mappend\u001b[0m\u001b[0;34m(\u001b[0m\u001b[0mphoto\u001b[0m\u001b[0;34m)\u001b[0m\u001b[0;34m\u001b[0m\u001b[0m\n",
      "\u001b[0;31mNameError\u001b[0m: name 'images' is not defined"
     ]
    }
   ],
   "source": [
    "t_name = []\n",
    "for photo in images:\n",
    "    t_name.append(photo)"
   ]
  },
  {
   "cell_type": "markdown",
   "id": "architectural-internet",
   "metadata": {},
   "source": [
    "For this chunk, we first create a constant i = 0 for later usage in the loop.Then we make a loop function. Inside the loop function we define a function called extract_similarity to extract the similarity value for each set using the compare_faces function in the rekognition. After we got the image_score we store it into the ch dataframe and stored it under the column name t_name at the i position.\n"
   ]
  },
  {
   "cell_type": "code",
   "execution_count": 50,
   "id": "accredited-dayton",
   "metadata": {
    "collapsed": true,
    "jupyter": {
     "outputs_hidden": true,
     "source_hidden": true
    }
   },
   "outputs": [
    {
     "name": "stdout",
     "output_type": "stream",
     "text": [
      "1\n",
      "2\n",
      "3\n",
      "4\n",
      "5\n",
      "6\n",
      "7\n",
      "8\n",
      "9\n",
      "10\n",
      "11\n",
      "12\n",
      "13\n",
      "14\n",
      "15\n",
      "16\n",
      "17\n",
      "18\n",
      "19\n",
      "20\n"
     ]
    }
   ],
   "source": [
    "i = 0\n",
    "for photo in images:\n",
    "    def extract_similarity(image):\n",
    "        try:\n",
    "            comparison = client.compare_faces(SourceImage={'S3Object':{'Bucket':\"image-api-example-finalversion2\",'Name':photo}}, TargetImage={'S3Object':{'Bucket':\"image-api-example-finalversion2\",'Name':image}})\n",
    "            face_match = comparison['FaceMatches']\n",
    "            image_score = face_match[0]['Similarity'] \n",
    "        except:\n",
    "            image_score = np.nan\n",
    "        return image_score\n",
    "    ch[t_name[i]] = [extract_similarity(name) for name in ch[\"Name\"]]\n",
    "    i = i + 1\n",
    "    print(i)"
   ]
  },
  {
   "cell_type": "markdown",
   "id": "geographic-event",
   "metadata": {},
   "source": [
    "Define a function called extract_Age to extract the age range value for each image using the detect_faces function in the rekognition."
   ]
  },
  {
   "cell_type": "code",
   "execution_count": 53,
   "id": "anonymous-economics",
   "metadata": {},
   "outputs": [],
   "source": [
    "def extract_age(image):\n",
    "    try:\n",
    "        comparison = client.detect_faces(Image={'S3Object':{'Bucket':\"image-api-example-finalversion2\",'Name':image}}, Attributes = [\"ALL\"])\n",
    "        age_range = comparison[\"FaceDetails\"][0][\"AgeRange\"] \n",
    "    except:\n",
    "        age_range = np.nan\n",
    "    return age_range"
   ]
  },
  {
   "cell_type": "markdown",
   "id": "national-pipeline",
   "metadata": {},
   "source": [
    "After we got the age_range we store it into the ch dataframe and stored it under the column name \"Age_range\".\n"
   ]
  },
  {
   "cell_type": "code",
   "execution_count": 54,
   "id": "incorporate-jaguar",
   "metadata": {},
   "outputs": [],
   "source": [
    "ch[\"Age_Range\"] = [extract_age(name) for name in ch[\"Name\"]]"
   ]
  },
  {
   "cell_type": "markdown",
   "id": "brown-venture",
   "metadata": {},
   "source": [
    "We output the result to a csv file called \"resulsection3.csv\""
   ]
  },
  {
   "cell_type": "code",
   "execution_count": 58,
   "id": "genuine-luther",
   "metadata": {},
   "outputs": [],
   "source": [
    "ch.to_csv(\"resultsection3.csv\")"
   ]
  },
  {
   "cell_type": "code",
   "execution_count": null,
   "id": "active-acquisition",
   "metadata": {},
   "outputs": [],
   "source": []
  }
 ],
 "metadata": {
  "kernelspec": {
   "display_name": "conda_amazonei_mxnet_p27",
   "language": "python",
   "name": "conda_amazonei_mxnet_p27"
  },
  "language_info": {
   "codemirror_mode": {
    "name": "ipython",
    "version": 2
   },
   "file_extension": ".py",
   "mimetype": "text/x-python",
   "name": "python",
   "nbconvert_exporter": "python",
   "pygments_lexer": "ipython2",
   "version": "2.7.16"
  }
 },
 "nbformat": 4,
 "nbformat_minor": 5
}
